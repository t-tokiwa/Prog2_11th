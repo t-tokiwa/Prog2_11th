{
  "nbformat": 4,
  "nbformat_minor": 0,
  "metadata": {
    "colab": {
      "provenance": [],
      "authorship_tag": "ABX9TyO4eJUHRQ1+epvnLskAKeNt",
      "include_colab_link": true
    },
    "kernelspec": {
      "name": "python3",
      "display_name": "Python 3"
    },
    "language_info": {
      "name": "python"
    }
  },
  "cells": [
    {
      "cell_type": "markdown",
      "metadata": {
        "id": "view-in-github",
        "colab_type": "text"
      },
      "source": [
        "<a href=\"https://colab.research.google.com/github/hina81/Prog2_11th/blob/main/work1.ipynb\" target=\"_parent\"><img src=\"https://colab.research.google.com/assets/colab-badge.svg\" alt=\"Open In Colab\"/></a>"
      ]
    },
    {
      "cell_type": "markdown",
      "source": [
        "固定電話番号から住所検索"
      ],
      "metadata": {
        "id": "2tIhThyjAdcK"
      }
    },
    {
      "cell_type": "code",
      "source": [
        "num = int(input('番号の上6桁を入力：'))\n",
        "\n",
        "import pandas as pd\n",
        "import numpy as np\n",
        "import csv\n",
        "df = pd.read_csv('市外局番.csv')\n",
        "\n",
        "print('検索結果(住所):')\n",
        "\n",
        "df['市外局番'] = pd.to_numeric(df['市外局番'], errors='coerce').fillna(0).astype('int')\n",
        "df['市外局番'] = df['市外局番'].astype(str)\n",
        "for i in range(2,5)[::-1]:\n",
        "  area_code = str(num)[:i]\n",
        "  itti = np.where(df['市外局番'] == area_code)\n",
        "  if len(itti[0]) > 1:\n",
        "    for x in itti[0]:\n",
        "      a = df.iloc[x]\n",
        "      print(a[0])\n",
        "    break\n",
        "  else:\n",
        "    continue"
      ],
      "metadata": {
        "colab": {
          "base_uri": "https://localhost:8080/"
        },
        "id": "7hmXJVpNAiUz",
        "outputId": "f90198fa-c50c-4485-f55f-62a6415af77c"
      },
      "execution_count": 109,
      "outputs": [
        {
          "output_type": "stream",
          "name": "stdout",
          "text": [
            "番号の上6桁を入力：084934\n",
            "検索結果(住所):\n",
            "広島県福山市（今津町、金江町金見、金江町藁江、神村町、高西町川尻、高西町真田、高西町南、東村町、藤江町、本郷町、松永町、南松永町、宮前町及び柳津町に限る。）\n",
            "広島県福山市（今津町、金江町金見、金江町藁江、神村町、新市町、高西町川尻、高西町真田、高西町南、東村町、藤江町、本郷町、松永町、南松永町、宮前町及び柳津町を除く。）\n"
          ]
        }
      ]
    }
  ]
}