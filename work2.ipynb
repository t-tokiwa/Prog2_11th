{
  "nbformat": 4,
  "nbformat_minor": 0,
  "metadata": {
    "colab": {
      "provenance": [],
      "authorship_tag": "ABX9TyOgeHbAn6k2h1wjaE6PCa6E",
      "include_colab_link": true
    },
    "kernelspec": {
      "name": "python3",
      "display_name": "Python 3"
    },
    "language_info": {
      "name": "python"
    }
  },
  "cells": [
    {
      "cell_type": "markdown",
      "metadata": {
        "id": "view-in-github",
        "colab_type": "text"
      },
      "source": [
        "<a href=\"https://colab.research.google.com/github/hina81/Prog2_11th/blob/main/work2.ipynb\" target=\"_parent\"><img src=\"https://colab.research.google.com/assets/colab-badge.svg\" alt=\"Open In Colab\"/></a>"
      ]
    },
    {
      "cell_type": "code",
      "source": [
        "from google.colab import auth\n",
        "from wordcloud import WordCloud\n",
        "import gspread\n",
        "from google.auth import default\n",
        "import pandas as pd\n",
        "import numpy as np\n",
        "import datetime\n",
        "import csv"
      ],
      "metadata": {
        "id": "pTgy4_RoPMrp"
      },
      "execution_count": 1,
      "outputs": []
    },
    {
      "cell_type": "code",
      "source": [
        "#csvファイル名を変更してください\n",
        "df = pd.read_csv('希望シフト【期間を記入】  .csv')"
      ],
      "metadata": {
        "id": "Fu0reUrtXWfv"
      },
      "execution_count": 15,
      "outputs": []
    },
    {
      "cell_type": "code",
      "source": [
        "#google formからの情報をNumPy配列に変換します\n",
        "name = []\n",
        "for na in df['お名前']:\n",
        "  name.append(na)\n",
        "#print(name)\n",
        "\n",
        "mon = []\n",
        "tue = []\n",
        "wed = []\n",
        "thu = []\n",
        "fri = []\n",
        "sat = []\n",
        "sun = []\n",
        "\n",
        "for sft in df['希望シフト']:\n",
        "  if '月' in sft:\n",
        "    mon.append(1)\n",
        "  else:\n",
        "    mon.append(0)\n",
        "\n",
        "  if '火' in sft:\n",
        "    tue.append(1)\n",
        "  else:\n",
        "    tue.append(0)\n",
        "\n",
        "  if '水' in sft:\n",
        "    wed.append(1)\n",
        "  else:\n",
        "    wed.append(0)\n",
        "\n",
        "  if '木' in sft:\n",
        "    thu.append(1)\n",
        "  else:\n",
        "    thu.append(0)\n",
        "\n",
        "  if '金' in sft:\n",
        "    fri.append(1)\n",
        "  else:\n",
        "    fri.append(0)\n",
        "\n",
        "  if '土' in sft:\n",
        "    sat.append(1)\n",
        "  else:\n",
        "    sat.append(0)\n",
        "\n",
        "\n",
        "  if '日' in sft:\n",
        "    sun.append(1)\n",
        "  else:\n",
        "    sun.append(0)\n",
        "\n",
        "data = np.array([mon, tue, wed, thu, fri, sat, sun])\n",
        "data_T = data.T"
      ],
      "metadata": {
        "id": "u30cAFArQt6v"
      },
      "execution_count": 21,
      "outputs": []
    },
    {
      "cell_type": "code",
      "source": [
        "#行が人、列が曜日\n",
        "print(data_T)"
      ],
      "metadata": {
        "colab": {
          "base_uri": "https://localhost:8080/"
        },
        "id": "xWRrLUYOYmoe",
        "outputId": "0595b026-d0df-44da-aa93-76408cb635b0"
      },
      "execution_count": 25,
      "outputs": [
        {
          "output_type": "stream",
          "name": "stdout",
          "text": [
            "[[1 1 0 1 0 0 1]\n",
            " [0 1 1 0 0 0 0]\n",
            " [1 1 1 0 0 0 0]\n",
            " [0 1 1 0 1 1 0]\n",
            " [1 0 0 0 0 0 1]\n",
            " [0 1 0 0 1 0 0]\n",
            " [1 1 1 0 0 0 1]\n",
            " [0 0 0 0 1 1 1]\n",
            " [0 0 1 1 0 0 0]\n",
            " [1 0 0 1 0 1 0]\n",
            " [0 0 0 0 0 1 1]]\n"
          ]
        }
      ]
    },
    {
      "cell_type": "code",
      "source": [
        "#日ごとの希望者数\n",
        "kibou = np.sum(data_T, axis=0)\n",
        "print(kibou)\n",
        "#一週間の希望勤務時間\n",
        "zikan_sum = np.sum(data_T,axis=1)\n",
        "print(zikan_sum)"
      ],
      "metadata": {
        "colab": {
          "base_uri": "https://localhost:8080/"
        },
        "id": "CxR2kQH1XopQ",
        "outputId": "58b5a919-96fd-4e11-eca5-392cb6937286"
      },
      "execution_count": 31,
      "outputs": [
        {
          "output_type": "stream",
          "name": "stdout",
          "text": [
            "[5 6 5 3 3 4 5]\n",
            "[4 2 3 4 2 2 4 3 2 3 2]\n"
          ]
        }
      ]
    },
    {
      "cell_type": "code",
      "source": [
        "for i,day in enumerate(kibou, 0):\n",
        "  if day > 4:\n",
        "    np.put(data_T[np.argmax(zikan_sum),i],data_T, 0)\n",
        "\n",
        "print(data_T)"
      ],
      "metadata": {
        "colab": {
          "base_uri": "https://localhost:8080/",
          "height": 395
        },
        "id": "nn3zM2D_iVkq",
        "outputId": "938564c0-eeb6-46ba-fa73-db15fe8673ed"
      },
      "execution_count": 32,
      "outputs": [
        {
          "output_type": "error",
          "ename": "IndexError",
          "evalue": "index 1 is out of bounds for axis 0 with size 1",
          "traceback": [
            "\u001b[0;31m---------------------------------------------------------------------------\u001b[0m",
            "\u001b[0;31mIndexError\u001b[0m                                Traceback (most recent call last)",
            "\u001b[0;32m<ipython-input-32-50db2ab4e689>\u001b[0m in \u001b[0;36m<cell line: 1>\u001b[0;34m()\u001b[0m\n\u001b[1;32m      2\u001b[0m   \u001b[0;32mif\u001b[0m \u001b[0mday\u001b[0m \u001b[0;34m>\u001b[0m \u001b[0;36m4\u001b[0m\u001b[0;34m:\u001b[0m\u001b[0;34m\u001b[0m\u001b[0;34m\u001b[0m\u001b[0m\n\u001b[1;32m      3\u001b[0m     \u001b[0;31m#np.put([np.argmax(zikan_sum), i], data_T, 0)\u001b[0m\u001b[0;34m\u001b[0m\u001b[0;34m\u001b[0m\u001b[0m\n\u001b[0;32m----> 4\u001b[0;31m     \u001b[0mnp\u001b[0m\u001b[0;34m.\u001b[0m\u001b[0mput\u001b[0m\u001b[0;34m(\u001b[0m\u001b[0mdata_T\u001b[0m\u001b[0;34m[\u001b[0m\u001b[0mnp\u001b[0m\u001b[0;34m.\u001b[0m\u001b[0margmax\u001b[0m\u001b[0;34m(\u001b[0m\u001b[0mzikan_sum\u001b[0m\u001b[0;34m)\u001b[0m\u001b[0;34m,\u001b[0m\u001b[0mi\u001b[0m\u001b[0;34m]\u001b[0m\u001b[0;34m,\u001b[0m\u001b[0mdata_T\u001b[0m\u001b[0;34m,\u001b[0m \u001b[0;36m0\u001b[0m\u001b[0;34m)\u001b[0m\u001b[0;34m\u001b[0m\u001b[0;34m\u001b[0m\u001b[0m\n\u001b[0m\u001b[1;32m      5\u001b[0m \u001b[0;34m\u001b[0m\u001b[0m\n\u001b[1;32m      6\u001b[0m \u001b[0mprint\u001b[0m\u001b[0;34m(\u001b[0m\u001b[0mdata_T\u001b[0m\u001b[0;34m)\u001b[0m\u001b[0;34m\u001b[0m\u001b[0;34m\u001b[0m\u001b[0m\n",
            "\u001b[0;32m/usr/local/lib/python3.10/dist-packages/numpy/core/overrides.py\u001b[0m in \u001b[0;36mput\u001b[0;34m(*args, **kwargs)\u001b[0m\n",
            "\u001b[0;32m/usr/local/lib/python3.10/dist-packages/numpy/core/fromnumeric.py\u001b[0m in \u001b[0;36mput\u001b[0;34m(a, ind, v, mode)\u001b[0m\n\u001b[1;32m    541\u001b[0m                         \"not {name}\".format(name=type(a).__name__)) from e\n\u001b[1;32m    542\u001b[0m \u001b[0;34m\u001b[0m\u001b[0m\n\u001b[0;32m--> 543\u001b[0;31m     \u001b[0;32mreturn\u001b[0m \u001b[0mput\u001b[0m\u001b[0;34m(\u001b[0m\u001b[0mind\u001b[0m\u001b[0;34m,\u001b[0m \u001b[0mv\u001b[0m\u001b[0;34m,\u001b[0m \u001b[0mmode\u001b[0m\u001b[0;34m=\u001b[0m\u001b[0mmode\u001b[0m\u001b[0;34m)\u001b[0m\u001b[0;34m\u001b[0m\u001b[0;34m\u001b[0m\u001b[0m\n\u001b[0m\u001b[1;32m    544\u001b[0m \u001b[0;34m\u001b[0m\u001b[0m\n\u001b[1;32m    545\u001b[0m \u001b[0;34m\u001b[0m\u001b[0m\n",
            "\u001b[0;31mIndexError\u001b[0m: index 1 is out of bounds for axis 0 with size 1"
          ]
        }
      ]
    }
  ]
}