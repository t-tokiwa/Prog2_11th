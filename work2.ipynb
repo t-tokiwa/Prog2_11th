{
  "cells": [
    {
      "cell_type": "markdown",
      "metadata": {
        "id": "view-in-github",
        "colab_type": "text"
      },
      "source": [
        "<a href=\"https://colab.research.google.com/github/yuasa-souta/Prog2_11th/blob/main/work2.ipynb\" target=\"_parent\"><img src=\"https://colab.research.google.com/assets/colab-badge.svg\" alt=\"Open In Colab\"/></a>"
      ]
    },
    {
      "cell_type": "code",
      "source": [
        "# turtle をColab環境で利用できるようにするため，Colabファイルを開いたときに一度だけ実行する\n",
        "!pip3 install ColabTurtlePlus"
      ],
      "metadata": {
        "colab": {
          "base_uri": "https://localhost:8080/"
        },
        "id": "lkS8ipFmI654",
        "outputId": "10fad5cf-598f-4e7c-da49-9295fa333d58"
      },
      "execution_count": 6,
      "outputs": [
        {
          "output_type": "stream",
          "name": "stdout",
          "text": [
            "Collecting ColabTurtlePlus\n",
            "  Downloading ColabTurtlePlus-2.0.1-py3-none-any.whl (31 kB)\n",
            "Installing collected packages: ColabTurtlePlus\n",
            "Successfully installed ColabTurtlePlus-2.0.1\n"
          ]
        }
      ]
    },
    {
      "cell_type": "code",
      "execution_count": 7,
      "metadata": {
        "id": "QzoUgAdXFHQI",
        "colab": {
          "base_uri": "https://localhost:8080/"
        },
        "outputId": "ac0ab242-785f-4ff2-a42d-8689568f05ee"
      },
      "outputs": [
        {
          "output_type": "stream",
          "name": "stdout",
          "text": [
            "Put clearscreen() as the first line in a cell (after the import command) to re-run turtle commands in the cell\n"
          ]
        }
      ],
      "source": [
        "import numpy as np\n",
        "import matplotlib.pyplot as plt\n",
        "from matplotlib.colors import LinearSegmentedColormap as pltc\n",
        "import random\n",
        "from ColabTurtlePlus.Turtle import *"
      ]
    },
    {
      "cell_type": "code",
      "execution_count": 4,
      "metadata": {
        "id": "dISMsNGG9a9j"
      },
      "outputs": [],
      "source": [
        "Ans = [[[3,3,3],[-1,-1,-1],[-1,-1,-1]],\n",
        "      [[-1,-1,-1],[3,3,3],[-1,-1,-1]],\n",
        "      [[-1,-1,-1],[-1,-1,-1],[3,3,3]],\n",
        "      [[3,-1,-1],[3,-1,-1],[3,-1,-1]],\n",
        "      [[-1,3,-1],[-1,3,-1],[-1,3,-1]],\n",
        "      [[-1,-1,3],[-1,-1,3],[-1,-1,3]],\n",
        "      [[3,-1,-1],[-1,3,-1],[-1,-1,3]],\n",
        "      [[-1,-1,3],[-1,3,-1],[3,-1,-1]]]"
      ]
    },
    {
      "cell_type": "code",
      "execution_count": null,
      "metadata": {
        "colab": {
          "base_uri": "https://localhost:8080/",
          "height": 853
        },
        "id": "ce8A9Yf8zjg4",
        "outputId": "df580e9d-8bda-4da2-f8bd-2baede316311"
      },
      "outputs": [
        {
          "output_type": "display_data",
          "data": {
            "text/plain": [
              "<Figure size 640x480 with 1 Axes>"
            ],
            "image/png": "[encoded data removed]"
          },
          "metadata": {}
        },
        {
          "output_type": "display_data",
          "data": {
            "text/plain": [
              "<Figure size 640x480 with 1 Axes>"
            ],
            "image/png": "[encoded data removed]"
          },
          "metadata": {}
        }
      ],
      "source": [
        "def game(A,nx,ny,i):\n",
        "  if i%2 == 0:\n",
        "    x = 1\n",
        "  else:\n",
        "    x = 2\n",
        "  A[ny][nx] = x\n",
        "def judge(A,Ans):\n",
        "  winer = '0'\n",
        "  A = print(np.where(A == 1, 3, -1))\n",
        "  B = print(np.where(A == 2, 3, -1))\n",
        "  for i in range(8):\n",
        "    # 一致判定\n",
        "    flagA =  np.allclose(A, Ans[i])\n",
        "    flagB =  np.allclose(B, Ans[i])\n",
        "    if flagA == True:\n",
        "      winer = '1'\n",
        "    elif flagB == True:\n",
        "      winer = '2'\n",
        "  return winer\n",
        "\n",
        "n = 3\n",
        "board = np.zeros([n, n], dtype=bool)\n",
        "\n",
        "color_list = ['white', 'gray', 'black']\n",
        "cmap = LinearSegmentedColormap.from_list('cmap', color_list)\n",
        "norm = plt.Normalize(0, 2)\n",
        "\n",
        "#for i in range(9):\n",
        "#  winer = judge(board,Ans)\n",
        "#  plt.imshow(board, cmap=cmap, norm=norm)\n",
        "#  plt.pause(.01)\n",
        "#  plt.cla()\n",
        "# nx = int(input('何列目？'))\n",
        "#  ny = int(input('何行目？'))\n",
        "#  board = game(board,nx,ny,i)\n",
        "board[0] = 2\n",
        "plt.imshow(board, cmap=cmap, norm=norm)\n",
        "plt.pause(.01)\n",
        "plt.cla()"
      ]
    },
    {
      "cell_type": "code",
      "source": [
        "gameBoard = [0,1,2,3,4,5,6,7,8] # ゲームに利用する盤面\n",
        "winer = ['drow','win','lose']\n",
        "g = 0\n",
        "# 盤面を3x3で表示する\n",
        "def displayBoard():\n",
        "    # gameBoardの要素を1つずつ表示\n",
        "    for i in range(0, len(gameBoard)):\n",
        "        if(i%3 == 2): # 3回に1回は改行\n",
        "            print(gameBoard[i]) # 改行する\n",
        "        else :\n",
        "            print(gameBoard[i], end=\"\") # 改行しない\n",
        "# ターンを進める\n",
        "def inputBoard(playerType):\n",
        "    # 1.座標を入力させる\n",
        "    if(playerType == \"o\"):  # o が渡されたら座標を入力\n",
        "        tgt = int(input(\"0~8の座標を入れてください: \"))\n",
        "    else: # xが渡されたらランダムで座標を入力\n",
        "        tgt = random.randint(0,8)\n",
        "\n",
        "    # 2.入力座標に 'o'か 'x' が入っていないことを確認\n",
        "    if(gameBoard[tgt] == 'o' or gameBoard[tgt] == 'x'):\n",
        "        inputBoard(playerType)\n",
        "\n",
        "    # 3.gameBoardに反映\n",
        "    else:\n",
        "        gameBoard[tgt] = playerType\n",
        "def judge():\n",
        "  if gameBoard[0] == gameBoard[1] == gameBoard[2] or gameBoard[3] == gameBoard[4] == gameBoard[5] or gameBoard[6] == gameBoard[7] == gameBoard[8] or gameBoard[0] == gameBoard[3] == gameBoard[6] or gameBoard[1] == gameBoard[4] == gameBoard[7] or gameBoard[2] == gameBoard[5] == gameBoard[8] or gameBoard[0] == gameBoard[4] == gameBoard[8] or gameBoard[2] == gameBoard[4] == gameBoard[6] == 'o':\n",
        "    return 1\n",
        "  elif gameBoard[0] == gameBoard[1] == gameBoard[2] or gameBoard[3] == gameBoard[4] == gameBoard[5] or gameBoard[6] == gameBoard[7] == gameBoard[8] or gameBoard[0] == gameBoard[3] == gameBoard[6] or gameBoard[1] == gameBoard[4] == gameBoard[7] or gameBoard[2] == gameBoard[5] == gameBoard[8] or gameBoard[0] == gameBoard[4] == gameBoard[8] or gameBoard[2] == gameBoard[4] == gameBoard[6] == 'x':\n",
        "    return 2\n",
        "  return 0\n",
        "def check():\n",
        "  a = 0\n",
        "  for b in range(len(gameBoard)):\n",
        "    if type(gameBoard[b]) is str:\n",
        "      a += 1\n",
        "  if a == 9:\n",
        "    return 1\n",
        "  return 0\n",
        "\n",
        "# ゲームの進行\n",
        "\n",
        "displayBoard()\n",
        "while True:\n",
        "  inputBoard('o') # ユーザーのターン\n",
        "  displayBoard()\n",
        "  g = judge()\n",
        "  if check() == 1:\n",
        "    print(winer[int(g)])\n",
        "    break\n",
        "  print('=====')\n",
        "  inputBoard('x') # CPUのターン\n",
        "  displayBoard()\n",
        "  g = judge()\n",
        "  if g != 0:\n",
        "    print(winer[int(g)])\n",
        "    break\n",
        "\n"
      ],
      "metadata": {
        "id": "cHn-BbtXYJet",
        "colab": {
          "base_uri": "https://localhost:8080/"
        },
        "outputId": "3a6dfa2f-132a-4944-c948-d57410c84404"
      },
      "execution_count": 8,
      "outputs": [
        {
          "output_type": "stream",
          "name": "stdout",
          "text": [
            "012\n",
            "345\n",
            "678\n",
            "0~8の座標を入れてください: 4\n",
            "012\n",
            "3o5\n",
            "678\n",
            "=====\n",
            "x12\n",
            "3o5\n",
            "678\n",
            "0~8の座標を入れてください: 1\n",
            "xo2\n",
            "3o5\n",
            "678\n",
            "=====\n",
            "xo2\n",
            "3o5\n",
            "6x8\n",
            "0~8の座標を入れてください: 3\n",
            "xo2\n",
            "oo5\n",
            "6x8\n",
            "=====\n",
            "xo2\n",
            "oox\n",
            "6x8\n",
            "0~8の座標を入れてください: 2\n",
            "xoo\n",
            "oox\n",
            "6x8\n",
            "=====\n",
            "xoo\n",
            "oox\n",
            "6xx\n",
            "0~8の座標を入れてください: 6\n",
            "xoo\n",
            "oox\n",
            "oxx\n",
            "win\n"
          ]
        }
      ]
    },
    {
      "cell_type": "markdown",
      "metadata": {
        "id": "AEXas-FX31Jf"
      },
      "source": [
        "sample code\n",
        "https://qiita.com/yuji96/items/bfae04a043d35260ffb1"
      ]
    },
    {
      "cell_type": "code",
      "execution_count": null,
      "metadata": {
        "colab": {
          "base_uri": "https://localhost:8080/",
          "height": 1000
        },
        "id": "a1yZlfkfyuWD",
        "outputId": "8d559961-afb1-4d82-a791-f2951bc3d14d"
      },
      "outputs": [
        {
          "data": {
            "image/png": "[encoded data removed]",
            "text/plain": [
              "<Figure size 640x480 with 1 Axes>"
            ]
          },
          "metadata": {},
          "output_type": "display_data"
        },
        {
          "name": "stdout",
          "output_type": "stream",
          "text": [
            "[[False False False False False False False False False False False False\n",
            "  False False False]\n",
            " [False False False False False False False False False False False False\n",
            "  False False False]\n",
            " [False False False False False False False  True  True  True  True False\n",
            "  False False False]\n",
            " [False False False  True  True False  True False False False False  True\n",
            "  False False False]\n",
            " [False False  True False False False  True False False False False  True\n",
            "  False False False]\n",
            " [False False  True False False False False  True  True False False False\n",
            "  False False False]\n",
            " [False False  True False False  True False False False False  True  True\n",
            "  False False False]\n",
            " [False False  True False False  True False False False  True False False\n",
            "   True False False]\n",
            " [False False False  True  True False False False False  True False False\n",
            "   True False False]\n",
            " [False False False False False False  True  True False False False False\n",
            "   True False False]\n",
            " [False False False  True False False False False  True False False False\n",
            "   True False False]\n",
            " [False False False  True False False False False  True False  True  True\n",
            "  False False False]\n",
            " [False False False False  True  True  True  True False False False False\n",
            "  False False False]\n",
            " [False False False False False False False False False False False False\n",
            "  False False False]\n",
            " [False False False False False False False False False False False False\n",
            "  False False False]]\n"
          ]
        },
        {
          "data": {
            "image/png": "[encoded data removed]",
            "text/plain": [
              "<Figure size 640x480 with 1 Axes>"
            ]
          },
          "metadata": {},
          "output_type": "display_data"
        },
        {
          "name": "stdout",
          "output_type": "stream",
          "text": [
            "[[False False False False False False False False False False False False\n",
            "  False False False]\n",
            " [False False False False False False False False  True  True False False\n",
            "  False False False]\n",
            " [False False False False False False False  True  True  True  True False\n",
            "  False False False]\n",
            " [False False False  True False  True  True False  True  True False  True\n",
            "  False False False]\n",
            " [False False  True False False  True  True False False False False False\n",
            "  False False False]\n",
            " [False  True  True  True False False  True  True False False  True  True\n",
            "  False False False]\n",
            " [False  True  True  True False False  True False  True  True  True  True\n",
            "  False False False]\n",
            " [False False  True False False  True False False False  True False False\n",
            "   True False False]\n",
            " [False False False  True  True  True  True False  True False False  True\n",
            "   True  True False]\n",
            " [False False False  True  True False False  True  True False False  True\n",
            "   True  True False]\n",
            " [False False False False False False False False  True  True False False\n",
            "   True False False]\n",
            " [False False False  True False  True  True False  True  True False  True\n",
            "  False False False]\n",
            " [False False False False  True  True  True  True False False False False\n",
            "  False False False]\n",
            " [False False False False False  True  True False False False False False\n",
            "  False False False]\n",
            " [False False False False False False False False False False False False\n",
            "  False False False]]\n"
          ]
        },
        {
          "data": {
            "image/png": "[encoded data removed]",
            "text/plain": [
              "<Figure size 640x480 with 1 Axes>"
            ]
          },
          "metadata": {},
          "output_type": "display_data"
        },
        {
          "name": "stdout",
          "output_type": "stream",
          "text": [
            "[[False False False False False False False False False False False False\n",
            "  False False False]\n",
            " [False False False False False False False  True False False  True False\n",
            "  False False False]\n",
            " [False False False False False False  True False False False False False\n",
            "  False False False]\n",
            " [False False False False  True  True False False False False False False\n",
            "  False False False]\n",
            " [False  True False False False False False False  True  True False  True\n",
            "  False False False]\n",
            " [False False False False  True False False False  True False False  True\n",
            "  False False False]\n",
            " [False False False False  True  True  True False  True False False False\n",
            "   True False False]\n",
            " [False  True False False False False False False False False False False\n",
            "  False  True False]\n",
            " [False False  True False False False  True False  True  True  True False\n",
            "  False False False]\n",
            " [False False False  True False False  True False False False  True False\n",
            "  False False False]\n",
            " [False False False  True False  True  True False False False False False\n",
            "  False  True False]\n",
            " [False False False False False False False False False  True  True False\n",
            "  False False False]\n",
            " [False False False False False False False False  True False False False\n",
            "  False False False]\n",
            " [False False False False  True False False  True False False False False\n",
            "  False False False]\n",
            " [False False False False False False False False False False False False\n",
            "  False False False]]\n"
          ]
        },
        {
          "data": {
            "image/png": "[encoded data removed]",
            "text/plain": [
              "<Figure size 640x480 with 1 Axes>"
            ]
          },
          "metadata": {},
          "output_type": "display_data"
        }
      ],
      "source": [
        "import matplotlib.pyplot as plt\n",
        "import numpy as np\n",
        "from matplotlib.colors import LinearSegmentedColormap\n",
        "\n",
        "\n",
        "n = 15\n",
        "\n",
        "cells = np.zeros([n, n], dtype=bool)\n",
        "\n",
        "# 銀河\n",
        "cells[3:9, 3:5] = True\n",
        "cells[3:5, 6:12] = True\n",
        "cells[-5:-3, 3:9] = True\n",
        "cells[6:12, -5:-3] = True\n",
        "\n",
        "# ランダム\n",
        "# cells = np.random.randint(0, 2, (n, n), dtype=bool)\n",
        "\n",
        "\n",
        "def update(old):\n",
        "\n",
        "    @np.vectorize\n",
        "    def sum_around(i, j):\n",
        "        return cells[max(0, i-1):i+2, max(0, j-1):j+2].sum() - cells[i, j]\n",
        "\n",
        "    around = np.fromfunction(sum_around, old.shape, dtype=int)\n",
        "    new = np.where(old , ((2 <= around) & (around <= 3)), (around == 3))\n",
        "    return new\n",
        "\n",
        "\n",
        "colors = ['green', 'red']\n",
        "xmas = LinearSegmentedColormap.from_list('xmas', colors)\n",
        "norm = plt.Normalize(0, 1)\n",
        "\n",
        "plt.tick_params(labelbottom=False, labelleft=False,\n",
        "                bottom=False, left=False)\n",
        "\n",
        "for i in range(3):\n",
        "#while True:\n",
        "    cells = update(cells)\n",
        "\n",
        "    plt.imshow(cells, cmap=xmas, norm=norm)\n",
        "    plt.pause(.01)\n",
        "    plt.cla()\n",
        "    print(cells)\n"
      ]
    }
  ],
  "metadata": {
    "colab": {
      "provenance": [],
      "authorship_tag": "ABX9TyPXmcJwc0LmwhWdQmsMlzvD",
      "include_colab_link": true
    },
    "kernelspec": {
      "display_name": "Python 3",
      "name": "python3"
    },
    "language_info": {
      "name": "python"
    }
  },
  "nbformat": 4,
  "nbformat_minor": 0
}